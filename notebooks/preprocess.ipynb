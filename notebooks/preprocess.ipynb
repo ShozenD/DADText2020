{
 "cells": [
  {
   "cell_type": "code",
   "execution_count": 1,
   "metadata": {},
   "outputs": [],
   "source": [
    "import re\n",
    "import pandas as pd\n",
    "import numpy as np\n",
    "from sklearn.model_selection import train_test_split"
   ]
  },
  {
   "cell_type": "code",
   "execution_count": 43,
   "metadata": {},
   "outputs": [],
   "source": [
    "wiki = pd.read_csv('../data/wikipedia.csv')\n",
    "uncy = pd.read_csv('../data/uncyclopedia.csv')"
   ]
  },
  {
   "cell_type": "code",
   "execution_count": 44,
   "metadata": {},
   "outputs": [
    {
     "data": {
      "text/html": [
       "<div>\n",
       "<style scoped>\n",
       "    .dataframe tbody tr th:only-of-type {\n",
       "        vertical-align: middle;\n",
       "    }\n",
       "\n",
       "    .dataframe tbody tr th {\n",
       "        vertical-align: top;\n",
       "    }\n",
       "\n",
       "    .dataframe thead th {\n",
       "        text-align: right;\n",
       "    }\n",
       "</style>\n",
       "<table border=\"1\" class=\"dataframe\">\n",
       "  <thead>\n",
       "    <tr style=\"text-align: right;\">\n",
       "      <th></th>\n",
       "      <th>Field1</th>\n",
       "    </tr>\n",
       "  </thead>\n",
       "  <tbody>\n",
       "    <tr>\n",
       "      <th>0</th>\n",
       "      <td>京都大学（きょうとだいがく、英語: Kyoto University）は、京都府京都市左京区...</td>\n",
       "    </tr>\n",
       "    <tr>\n",
       "      <th>1</th>\n",
       "      <td>京都大学は、日本で2番目に創設された帝国大学たる京都帝国大学の流れを汲んでいる国立大学で、入...</td>\n",
       "    </tr>\n",
       "    <tr>\n",
       "      <th>2</th>\n",
       "      <td>創立以来「自由の学風」を建学の精神としている。国立大学法人となった後に制定された京都大学の基...</td>\n",
       "    </tr>\n",
       "    <tr>\n",
       "      <th>3</th>\n",
       "      <td>京都市内の繁華街から離れた古都の風情を残す落ち着いた環境の中にあり、何事も学生の自主性に任せ...</td>\n",
       "    </tr>\n",
       "    <tr>\n",
       "      <th>4</th>\n",
       "      <td>京都大学や（前身の）京都帝国大学では、それらの自由の拡大あるいは縮小を巡る攻防戦が繰り返され...</td>\n",
       "    </tr>\n",
       "    <tr>\n",
       "      <th>5</th>\n",
       "      <td>京都大学は学部・研究科以外に19の附置研究所・研究センターを設置している[5]。2010年3...</td>\n",
       "    </tr>\n",
       "    <tr>\n",
       "      <th>6</th>\n",
       "      <td>タイムズ・ハイアー・エデュケーションの『THE世界大学ランキング 2021』（2020年）で...</td>\n",
       "    </tr>\n",
       "    <tr>\n",
       "      <th>7</th>\n",
       "      <td>2019年10月10日現在、卒業生から8人、ゆかりのある人物も含めると11人のノーベル賞受賞...</td>\n",
       "    </tr>\n",
       "    <tr>\n",
       "      <th>8</th>\n",
       "      <td>（沿革節の主要な出典は公式サイト[11][12][13][14][15][16][17]）\\n</td>\n",
       "    </tr>\n",
       "    <tr>\n",
       "      <th>9</th>\n",
       "      <td>京都大学の起源は文久元年8月16日（1861年9月20日）に長崎に設立された長崎養生所（その...</td>\n",
       "    </tr>\n",
       "  </tbody>\n",
       "</table>\n",
       "</div>"
      ],
      "text/plain": [
       "                                              Field1\n",
       "0  京都大学（きょうとだいがく、英語: Kyoto University）は、京都府京都市左京区...\n",
       "1  京都大学は、日本で2番目に創設された帝国大学たる京都帝国大学の流れを汲んでいる国立大学で、入...\n",
       "2  創立以来「自由の学風」を建学の精神としている。国立大学法人となった後に制定された京都大学の基...\n",
       "3  京都市内の繁華街から離れた古都の風情を残す落ち着いた環境の中にあり、何事も学生の自主性に任せ...\n",
       "4  京都大学や（前身の）京都帝国大学では、それらの自由の拡大あるいは縮小を巡る攻防戦が繰り返され...\n",
       "5  京都大学は学部・研究科以外に19の附置研究所・研究センターを設置している[5]。2010年3...\n",
       "6  タイムズ・ハイアー・エデュケーションの『THE世界大学ランキング 2021』（2020年）で...\n",
       "7  2019年10月10日現在、卒業生から8人、ゆかりのある人物も含めると11人のノーベル賞受賞...\n",
       "8    （沿革節の主要な出典は公式サイト[11][12][13][14][15][16][17]）\\n\n",
       "9  京都大学の起源は文久元年8月16日（1861年9月20日）に長崎に設立された長崎養生所（その..."
      ]
     },
     "execution_count": 44,
     "metadata": {},
     "output_type": "execute_result"
    }
   ],
   "source": [
    "wiki.head(10)"
   ]
  },
  {
   "cell_type": "code",
   "execution_count": 45,
   "metadata": {},
   "outputs": [
    {
     "data": {
      "text/html": [
       "<div>\n",
       "<style scoped>\n",
       "    .dataframe tbody tr th:only-of-type {\n",
       "        vertical-align: middle;\n",
       "    }\n",
       "\n",
       "    .dataframe tbody tr th {\n",
       "        vertical-align: top;\n",
       "    }\n",
       "\n",
       "    .dataframe thead th {\n",
       "        text-align: right;\n",
       "    }\n",
       "</style>\n",
       "<table border=\"1\" class=\"dataframe\">\n",
       "  <thead>\n",
       "    <tr style=\"text-align: right;\">\n",
       "      <th></th>\n",
       "      <th>Field1</th>\n",
       "    </tr>\n",
       "  </thead>\n",
       "  <tbody>\n",
       "    <tr>\n",
       "      <th>0</th>\n",
       "      <td>京都大学（きょうとだいかく、英称：Kyoto University）は、京都府京都市を本拠地...</td>\n",
       "    </tr>\n",
       "    <tr>\n",
       "      <th>1</th>\n",
       "      <td>「1人の天才と99,999人の狂人を生み出す大学」と呼ばれ、99,999人の中には態度がデカ...</td>\n",
       "    </tr>\n",
       "    <tr>\n",
       "      <th>2</th>\n",
       "      <td>今日、カステラ医学の権威として知られる長崎大学医学部を本家と仰ぐ、ハラタイラ・烏賊学部門が新...</td>\n",
       "    </tr>\n",
       "    <tr>\n",
       "      <th>3</th>\n",
       "      <td>建学当初から自由を基調とした考えが根底にある。部落開放同盟と利権を欲しいままにし、京都市役所...</td>\n",
       "    </tr>\n",
       "    <tr>\n",
       "      <th>4</th>\n",
       "      <td>また、官僚養成のトンキン大学や実学を推奨する神戸大学に対して、ニート養成や空想科学、エロゲ制...</td>\n",
       "    </tr>\n",
       "    <tr>\n",
       "      <th>5</th>\n",
       "      <td>永遠の校長こと折田彦市尊師を称えた銅像があったが、うら若き京大生達から溢れ出る芸術の息吹が尊...</td>\n",
       "    </tr>\n",
       "    <tr>\n",
       "      <th>6</th>\n",
       "      <td>出町柳のよそもん下宿生はテレビ大阪が写らない。\\n</td>\n",
       "    </tr>\n",
       "    <tr>\n",
       "      <th>7</th>\n",
       "      <td>牛車は大学側が用意するので、自前で購入する必要は無い。ただ、烏帽子や狩衣については入学前に購...</td>\n",
       "    </tr>\n",
       "    <tr>\n",
       "      <th>8</th>\n",
       "      <td>学内には、独立国家・吉田寮が存在する。クスノキ前で麻雀をやったり、炬燵で鍋をつついている連中...</td>\n",
       "    </tr>\n",
       "    <tr>\n",
       "      <th>9</th>\n",
       "      <td>お隣のソースの効いたたこ焼き大学の総長は京大卒の坂田利夫である。\\n</td>\n",
       "    </tr>\n",
       "  </tbody>\n",
       "</table>\n",
       "</div>"
      ],
      "text/plain": [
       "                                              Field1\n",
       "0  京都大学（きょうとだいかく、英称：Kyoto University）は、京都府京都市を本拠地...\n",
       "1  「1人の天才と99,999人の狂人を生み出す大学」と呼ばれ、99,999人の中には態度がデカ...\n",
       "2  今日、カステラ医学の権威として知られる長崎大学医学部を本家と仰ぐ、ハラタイラ・烏賊学部門が新...\n",
       "3  建学当初から自由を基調とした考えが根底にある。部落開放同盟と利権を欲しいままにし、京都市役所...\n",
       "4  また、官僚養成のトンキン大学や実学を推奨する神戸大学に対して、ニート養成や空想科学、エロゲ制...\n",
       "5  永遠の校長こと折田彦市尊師を称えた銅像があったが、うら若き京大生達から溢れ出る芸術の息吹が尊...\n",
       "6                          出町柳のよそもん下宿生はテレビ大阪が写らない。\\n\n",
       "7  牛車は大学側が用意するので、自前で購入する必要は無い。ただ、烏帽子や狩衣については入学前に購...\n",
       "8  学内には、独立国家・吉田寮が存在する。クスノキ前で麻雀をやったり、炬燵で鍋をつついている連中...\n",
       "9                 お隣のソースの効いたたこ焼き大学の総長は京大卒の坂田利夫である。\\n"
      ]
     },
     "execution_count": 45,
     "metadata": {},
     "output_type": "execute_result"
    }
   ],
   "source": [
    "uncy.head(10)"
   ]
  },
  {
   "cell_type": "code",
   "execution_count": 47,
   "metadata": {},
   "outputs": [],
   "source": [
    "# Remove new line character\n",
    "def parse(x):\n",
    "    x = re.sub(\"\\n\",\"\", x)\n",
    "    x = re.sub(\"「|」\",\"\",x)\n",
    "    x = re.sub(\"『|』\",\"\",x)\n",
    "    x = re.sub(\"（.*?）\",\"\",x)\n",
    "    x = re.sub(\"\\[.*?\\]\",\"\",x)\n",
    "    x = re.sub(\"[0-9]+\",\"0\",x)\n",
    "    x = re.sub(\"・\",\"、\",x)\n",
    "    return x"
   ]
  },
  {
   "cell_type": "code",
   "execution_count": 48,
   "metadata": {},
   "outputs": [],
   "source": [
    "wiki['Field1'] = wiki['Field1'].map(lambda x: parse(x))\n",
    "uncy['Field1'] = wiki['Field1'].map(lambda x: parse(x))"
   ]
  },
  {
   "cell_type": "code",
   "execution_count": 49,
   "metadata": {},
   "outputs": [
    {
     "data": {
      "text/html": [
       "<div>\n",
       "<style scoped>\n",
       "    .dataframe tbody tr th:only-of-type {\n",
       "        vertical-align: middle;\n",
       "    }\n",
       "\n",
       "    .dataframe tbody tr th {\n",
       "        vertical-align: top;\n",
       "    }\n",
       "\n",
       "    .dataframe thead th {\n",
       "        text-align: right;\n",
       "    }\n",
       "</style>\n",
       "<table border=\"1\" class=\"dataframe\">\n",
       "  <thead>\n",
       "    <tr style=\"text-align: right;\">\n",
       "      <th></th>\n",
       "      <th>Field1</th>\n",
       "    </tr>\n",
       "  </thead>\n",
       "  <tbody>\n",
       "    <tr>\n",
       "      <th>0</th>\n",
       "      <td>京都大学は、京都府京都市左京区吉田本町に本部を置く日本の国立大学である。0年に設置された。大...</td>\n",
       "    </tr>\n",
       "    <tr>\n",
       "      <th>1</th>\n",
       "      <td>京都大学は、日本で0番目に創設された帝国大学たる京都帝国大学の流れを汲んでいる国立大学で、入...</td>\n",
       "    </tr>\n",
       "    <tr>\n",
       "      <th>2</th>\n",
       "      <td>創立以来自由の学風を建学の精神としている。国立大学法人となった後に制定された京都大学の基本理...</td>\n",
       "    </tr>\n",
       "    <tr>\n",
       "      <th>3</th>\n",
       "      <td>京都市内の繁華街から離れた古都の風情を残す落ち着いた環境の中にあり、何事も学生の自主性に任せ...</td>\n",
       "    </tr>\n",
       "    <tr>\n",
       "      <th>4</th>\n",
       "      <td>京都大学や京都帝国大学では、それらの自由の拡大あるいは縮小を巡る攻防戦が繰り返されてきた。滝...</td>\n",
       "    </tr>\n",
       "    <tr>\n",
       "      <th>5</th>\n",
       "      <td>京都大学は学部、研究科以外に0の附置研究所、研究センターを設置している。0年0月現在、国内の...</td>\n",
       "    </tr>\n",
       "    <tr>\n",
       "      <th>6</th>\n",
       "      <td>タイムズ、ハイアー、エデュケーションのTHE世界大学ランキング 0では、世界第0位、アジア第...</td>\n",
       "    </tr>\n",
       "    <tr>\n",
       "      <th>7</th>\n",
       "      <td>0年0月0日現在、卒業生から0人、ゆかりのある人物も含めると0人のノーベル賞受賞者を輩出して...</td>\n",
       "    </tr>\n",
       "    <tr>\n",
       "      <th>8</th>\n",
       "      <td></td>\n",
       "    </tr>\n",
       "    <tr>\n",
       "      <th>9</th>\n",
       "      <td>京都大学の起源は文久元年0月0日に長崎に設立された長崎養生所まで遡る。長崎精得館の理化学部門...</td>\n",
       "    </tr>\n",
       "  </tbody>\n",
       "</table>\n",
       "</div>"
      ],
      "text/plain": [
       "                                              Field1\n",
       "0  京都大学は、京都府京都市左京区吉田本町に本部を置く日本の国立大学である。0年に設置された。大...\n",
       "1  京都大学は、日本で0番目に創設された帝国大学たる京都帝国大学の流れを汲んでいる国立大学で、入...\n",
       "2  創立以来自由の学風を建学の精神としている。国立大学法人となった後に制定された京都大学の基本理...\n",
       "3  京都市内の繁華街から離れた古都の風情を残す落ち着いた環境の中にあり、何事も学生の自主性に任せ...\n",
       "4  京都大学や京都帝国大学では、それらの自由の拡大あるいは縮小を巡る攻防戦が繰り返されてきた。滝...\n",
       "5  京都大学は学部、研究科以外に0の附置研究所、研究センターを設置している。0年0月現在、国内の...\n",
       "6  タイムズ、ハイアー、エデュケーションのTHE世界大学ランキング 0では、世界第0位、アジア第...\n",
       "7  0年0月0日現在、卒業生から0人、ゆかりのある人物も含めると0人のノーベル賞受賞者を輩出して...\n",
       "8                                                   \n",
       "9  京都大学の起源は文久元年0月0日に長崎に設立された長崎養生所まで遡る。長崎精得館の理化学部門..."
      ]
     },
     "execution_count": 49,
     "metadata": {},
     "output_type": "execute_result"
    }
   ],
   "source": [
    "wiki.head(10)"
   ]
  },
  {
   "cell_type": "code",
   "execution_count": 26,
   "metadata": {},
   "outputs": [],
   "source": [
    "wiki['lenght'] = wiki['Field1'].map(lambda x: len(x))\n",
    "uncy['lenght'] = uncy['Field1'].map(lambda x: len(x))"
   ]
  },
  {
   "cell_type": "code",
   "execution_count": 27,
   "metadata": {},
   "outputs": [],
   "source": [
    "wiki = wiki[wiki['lenght'] > 100]\n",
    "uncy = uncy[uncy['lenght'] > 100]"
   ]
  },
  {
   "cell_type": "code",
   "execution_count": 28,
   "metadata": {},
   "outputs": [],
   "source": [
    "wiki['label'] = 1\n",
    "uncy['label'] = 0"
   ]
  },
  {
   "cell_type": "code",
   "execution_count": 29,
   "metadata": {},
   "outputs": [],
   "source": [
    "data = pd.concat([wiki, uncy])"
   ]
  },
  {
   "cell_type": "code",
   "execution_count": 30,
   "metadata": {},
   "outputs": [],
   "source": [
    "y, X = data['label'], data['Field1']\n",
    "X_train, X_test, y_train, y_test = train_test_split(X, y, test_size=0.25, random_state=42)"
   ]
  },
  {
   "cell_type": "code",
   "execution_count": 31,
   "metadata": {},
   "outputs": [],
   "source": [
    "train = pd.DataFrame({'label': y_train, 'text': X_train})\n",
    "test = pd.DataFrame({'label': y_test, 'text': X_test})"
   ]
  },
  {
   "cell_type": "code",
   "execution_count": 32,
   "metadata": {},
   "outputs": [
    {
     "data": {
      "text/plain": [
       "742"
      ]
     },
     "execution_count": 32,
     "metadata": {},
     "output_type": "execute_result"
    }
   ],
   "source": [
    "len(train)"
   ]
  },
  {
   "cell_type": "code",
   "execution_count": 33,
   "metadata": {},
   "outputs": [
    {
     "data": {
      "text/plain": [
       "248"
      ]
     },
     "execution_count": 33,
     "metadata": {},
     "output_type": "execute_result"
    }
   ],
   "source": [
    "len(test)"
   ]
  },
  {
   "cell_type": "code",
   "execution_count": 34,
   "metadata": {},
   "outputs": [],
   "source": [
    "test.to_csv('../data/test.txt', sep='\\t', index=False, header=False)\n",
    "train.to_csv('../data/train.txt', sep='\\t', index=False, header=False)"
   ]
  },
  {
   "cell_type": "code",
   "execution_count": 35,
   "metadata": {},
   "outputs": [
    {
     "data": {
      "text/plain": [
       "0.6330645161290323"
      ]
     },
     "execution_count": 35,
     "metadata": {},
     "output_type": "execute_result"
    }
   ],
   "source": [
    "test.label.mean()"
   ]
  },
  {
   "cell_type": "code",
   "execution_count": 36,
   "metadata": {},
   "outputs": [
    {
     "data": {
      "text/plain": [
       "0.6347708894878706"
      ]
     },
     "execution_count": 36,
     "metadata": {},
     "output_type": "execute_result"
    }
   ],
   "source": [
    "train.label.mean()"
   ]
  },
  {
   "cell_type": "code",
   "execution_count": 37,
   "metadata": {},
   "outputs": [
    {
     "data": {
      "text/html": [
       "<div>\n",
       "<style scoped>\n",
       "    .dataframe tbody tr th:only-of-type {\n",
       "        vertical-align: middle;\n",
       "    }\n",
       "\n",
       "    .dataframe tbody tr th {\n",
       "        vertical-align: top;\n",
       "    }\n",
       "\n",
       "    .dataframe thead th {\n",
       "        text-align: right;\n",
       "    }\n",
       "</style>\n",
       "<table border=\"1\" class=\"dataframe\">\n",
       "  <thead>\n",
       "    <tr style=\"text-align: right;\">\n",
       "      <th></th>\n",
       "      <th>label</th>\n",
       "      <th>text</th>\n",
       "    </tr>\n",
       "  </thead>\n",
       "  <tbody>\n",
       "    <tr>\n",
       "      <th>413</th>\n",
       "      <td>1</td>\n",
       "      <td>1886年に講義録を発行し通信教育を開始したことがその起源である。当時の印刷部門は独立し、そ...</td>\n",
       "    </tr>\n",
       "    <tr>\n",
       "      <th>646</th>\n",
       "      <td>1</td>\n",
       "      <td>21世紀プログラムは、専門性の高いゼネラリストの育成を掲げて、2000年に学士課程に設置され...</td>\n",
       "    </tr>\n",
       "    <tr>\n",
       "      <th>963</th>\n",
       "      <td>1</td>\n",
       "      <td>設立に際しては、旧鳥取藩主・池田輝知や旧島原藩主・松平忠和らから支援を受け、千代田区有楽町数...</td>\n",
       "    </tr>\n",
       "    <tr>\n",
       "      <th>594</th>\n",
       "      <td>1</td>\n",
       "      <td>東京高等工芸学校のテクノロジー部門は現在の東京工業大学。同校の存した場所である港区芝浦の東京...</td>\n",
       "    </tr>\n",
       "    <tr>\n",
       "      <th>156</th>\n",
       "      <td>1</td>\n",
       "      <td>学生による自治を原則としているが、大学当局ともその支援を受けながら良好な関係を保っている。創...</td>\n",
       "    </tr>\n",
       "    <tr>\n",
       "      <th>...</th>\n",
       "      <td>...</td>\n",
       "      <td>...</td>\n",
       "    </tr>\n",
       "    <tr>\n",
       "      <th>99</th>\n",
       "      <td>1</td>\n",
       "      <td>ここまでの経緯としては、盧溝橋事件をきっかけに日中戦争が勃発すると、大学内でも配属将校はもち...</td>\n",
       "    </tr>\n",
       "    <tr>\n",
       "      <th>992</th>\n",
       "      <td>1</td>\n",
       "      <td>国内のOB・OG連合組織である連合駿台会は、1953年に経済界OB・OGの集いとして設立され...</td>\n",
       "    </tr>\n",
       "    <tr>\n",
       "      <th>597</th>\n",
       "      <td>1</td>\n",
       "      <td>1890年、第一高等中学校医学部に設置された薬学科を起源とする歴史がある。1949年に新制総...</td>\n",
       "    </tr>\n",
       "    <tr>\n",
       "      <th>438</th>\n",
       "      <td>0</td>\n",
       "      <td>早稲田大学には、学校法人早稲田大学が設置する以下の附属学校が存在している。学内での地位は学部...</td>\n",
       "    </tr>\n",
       "    <tr>\n",
       "      <th>1129</th>\n",
       "      <td>1</td>\n",
       "      <td>2007年にコミュニケーションマークRが制定されたのと同時に、同学のスローガン・タグラインと...</td>\n",
       "    </tr>\n",
       "  </tbody>\n",
       "</table>\n",
       "<p>248 rows × 2 columns</p>\n",
       "</div>"
      ],
      "text/plain": [
       "      label                                               text\n",
       "413       1  1886年に講義録を発行し通信教育を開始したことがその起源である。当時の印刷部門は独立し、そ...\n",
       "646       1  21世紀プログラムは、専門性の高いゼネラリストの育成を掲げて、2000年に学士課程に設置され...\n",
       "963       1  設立に際しては、旧鳥取藩主・池田輝知や旧島原藩主・松平忠和らから支援を受け、千代田区有楽町数...\n",
       "594       1  東京高等工芸学校のテクノロジー部門は現在の東京工業大学。同校の存した場所である港区芝浦の東京...\n",
       "156       1  学生による自治を原則としているが、大学当局ともその支援を受けながら良好な関係を保っている。創...\n",
       "...     ...                                                ...\n",
       "99        1  ここまでの経緯としては、盧溝橋事件をきっかけに日中戦争が勃発すると、大学内でも配属将校はもち...\n",
       "992       1  国内のOB・OG連合組織である連合駿台会は、1953年に経済界OB・OGの集いとして設立され...\n",
       "597       1  1890年、第一高等中学校医学部に設置された薬学科を起源とする歴史がある。1949年に新制総...\n",
       "438       0  早稲田大学には、学校法人早稲田大学が設置する以下の附属学校が存在している。学内での地位は学部...\n",
       "1129      1  2007年にコミュニケーションマークRが制定されたのと同時に、同学のスローガン・タグラインと...\n",
       "\n",
       "[248 rows x 2 columns]"
      ]
     },
     "execution_count": 37,
     "metadata": {},
     "output_type": "execute_result"
    }
   ],
   "source": [
    "test"
   ]
  },
  {
   "cell_type": "code",
   "execution_count": 39,
   "metadata": {},
   "outputs": [
    {
     "data": {
      "text/html": [
       "<div>\n",
       "<style scoped>\n",
       "    .dataframe tbody tr th:only-of-type {\n",
       "        vertical-align: middle;\n",
       "    }\n",
       "\n",
       "    .dataframe tbody tr th {\n",
       "        vertical-align: top;\n",
       "    }\n",
       "\n",
       "    .dataframe thead th {\n",
       "        text-align: right;\n",
       "    }\n",
       "</style>\n",
       "<table border=\"1\" class=\"dataframe\">\n",
       "  <thead>\n",
       "    <tr style=\"text-align: right;\">\n",
       "      <th></th>\n",
       "      <th>label</th>\n",
       "      <th>text</th>\n",
       "    </tr>\n",
       "  </thead>\n",
       "  <tbody>\n",
       "    <tr>\n",
       "      <th>434</th>\n",
       "      <td>0</td>\n",
       "      <td>早稲田大学戸山キャンパスや戸山公園、早稲田大学西早稲田キャンパス、学習院女子大学など早稲田の...</td>\n",
       "    </tr>\n",
       "    <tr>\n",
       "      <th>224</th>\n",
       "      <td>0</td>\n",
       "      <td>大学当局の公認サークル。団体設立には必ず顧問教官を置く必要があるほか、本郷キャンパスにサーク...</td>\n",
       "    </tr>\n",
       "    <tr>\n",
       "      <th>445</th>\n",
       "      <td>0</td>\n",
       "      <td>2010年には、大学院・先進理工学研究科に、日本初となる他大学との共同専攻、共同先進健康科学...</td>\n",
       "    </tr>\n",
       "    <tr>\n",
       "      <th>582</th>\n",
       "      <td>0</td>\n",
       "      <td>複数学問分野を包括する行動科学科を除いて、一学科の定員は約40名と高校の一クラス程度である。...</td>\n",
       "    </tr>\n",
       "    <tr>\n",
       "      <th>265</th>\n",
       "      <td>0</td>\n",
       "      <td>1900年1月29日、第14回帝国議会において九州東北帝国大学設置建議案が採択され、議会とし...</td>\n",
       "    </tr>\n",
       "    <tr>\n",
       "      <th>...</th>\n",
       "      <td>...</td>\n",
       "      <td>...</td>\n",
       "    </tr>\n",
       "    <tr>\n",
       "      <th>544</th>\n",
       "      <td>0</td>\n",
       "      <td>一橋大学の同窓組織は一般社団法人如水会といい、文部科学省所管の公益法人となっていた。もともと...</td>\n",
       "    </tr>\n",
       "    <tr>\n",
       "      <th>78</th>\n",
       "      <td>0</td>\n",
       "      <td>慶應義塾大学は、中津藩士の福澤諭吉が藩命により江戸築地鉄砲洲の中津藩中屋敷内に、1858年に...</td>\n",
       "    </tr>\n",
       "    <tr>\n",
       "      <th>553</th>\n",
       "      <td>0</td>\n",
       "      <td>学術総合センタービルを指す。2012年5月に一橋記念講堂の運営が独立行政法人国立大学財務・経...</td>\n",
       "    </tr>\n",
       "    <tr>\n",
       "      <th>508</th>\n",
       "      <td>0</td>\n",
       "      <td>体育系の実績のある高校生に対して推薦入学など入学優遇を行う制度は存在しない。ただし、個人競技...</td>\n",
       "    </tr>\n",
       "    <tr>\n",
       "      <th>438</th>\n",
       "      <td>0</td>\n",
       "      <td>早稲田大学には、学校法人早稲田大学が設置する以下の附属学校が存在している。学内での地位は学部...</td>\n",
       "    </tr>\n",
       "  </tbody>\n",
       "</table>\n",
       "<p>91 rows × 2 columns</p>\n",
       "</div>"
      ],
      "text/plain": [
       "     label                                               text\n",
       "434      0  早稲田大学戸山キャンパスや戸山公園、早稲田大学西早稲田キャンパス、学習院女子大学など早稲田の...\n",
       "224      0  大学当局の公認サークル。団体設立には必ず顧問教官を置く必要があるほか、本郷キャンパスにサーク...\n",
       "445      0  2010年には、大学院・先進理工学研究科に、日本初となる他大学との共同専攻、共同先進健康科学...\n",
       "582      0  複数学問分野を包括する行動科学科を除いて、一学科の定員は約40名と高校の一クラス程度である。...\n",
       "265      0  1900年1月29日、第14回帝国議会において九州東北帝国大学設置建議案が採択され、議会とし...\n",
       "..     ...                                                ...\n",
       "544      0  一橋大学の同窓組織は一般社団法人如水会といい、文部科学省所管の公益法人となっていた。もともと...\n",
       "78       0  慶應義塾大学は、中津藩士の福澤諭吉が藩命により江戸築地鉄砲洲の中津藩中屋敷内に、1858年に...\n",
       "553      0  学術総合センタービルを指す。2012年5月に一橋記念講堂の運営が独立行政法人国立大学財務・経...\n",
       "508      0  体育系の実績のある高校生に対して推薦入学など入学優遇を行う制度は存在しない。ただし、個人競技...\n",
       "438      0  早稲田大学には、学校法人早稲田大学が設置する以下の附属学校が存在している。学内での地位は学部...\n",
       "\n",
       "[91 rows x 2 columns]"
      ]
     },
     "execution_count": 39,
     "metadata": {},
     "output_type": "execute_result"
    }
   ],
   "source": [
    "test[test['label'] == 0]"
   ]
  },
  {
   "cell_type": "code",
   "execution_count": null,
   "metadata": {},
   "outputs": [],
   "source": []
  }
 ],
 "metadata": {
  "@webio": {
   "lastCommId": null,
   "lastKernelId": null
  },
  "jupytext": {
   "text_representation": {
    "extension": ".py",
    "format_name": "light",
    "format_version": "1.5",
    "jupytext_version": "1.7.1"
   }
  },
  "kernelspec": {
   "display_name": "Python 3",
   "language": "python",
   "name": "python3"
  },
  "language_info": {
   "codemirror_mode": {
    "name": "ipython",
    "version": 3
   },
   "file_extension": ".py",
   "mimetype": "text/x-python",
   "name": "python",
   "nbconvert_exporter": "python",
   "pygments_lexer": "ipython3",
   "version": "3.9.0"
  }
 },
 "nbformat": 4,
 "nbformat_minor": 4
}
