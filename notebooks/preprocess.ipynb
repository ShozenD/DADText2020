{
 "cells": [
  {
   "cell_type": "code",
   "execution_count": 28,
   "metadata": {},
   "outputs": [],
   "source": [
    "import re\n",
    "import pandas as pd\n",
    "from sklearn.model_selection import train_test_split"
   ]
  },
  {
   "cell_type": "code",
   "execution_count": 29,
   "metadata": {},
   "outputs": [],
   "source": [
    "wiki = pd.read_csv('../data/wikipedia.csv')\n",
    "uncy = pd.read_csv('../data/uncyclopedia.csv')"
   ]
  },
  {
   "cell_type": "code",
   "execution_count": 32,
   "metadata": {},
   "outputs": [
    {
     "data": {
      "text/html": [
       "<div>\n",
       "<style scoped>\n",
       "    .dataframe tbody tr th:only-of-type {\n",
       "        vertical-align: middle;\n",
       "    }\n",
       "\n",
       "    .dataframe tbody tr th {\n",
       "        vertical-align: top;\n",
       "    }\n",
       "\n",
       "    .dataframe thead th {\n",
       "        text-align: right;\n",
       "    }\n",
       "</style>\n",
       "<table border=\"1\" class=\"dataframe\">\n",
       "  <thead>\n",
       "    <tr style=\"text-align: right;\">\n",
       "      <th></th>\n",
       "      <th>Field1</th>\n",
       "    </tr>\n",
       "  </thead>\n",
       "  <tbody>\n",
       "    <tr>\n",
       "      <th>0</th>\n",
       "      <td>京都大学（きょうとだいがく、英語: Kyoto University）は、京都府京都市左京区...</td>\n",
       "    </tr>\n",
       "    <tr>\n",
       "      <th>1</th>\n",
       "      <td>京都大学は、日本で2番目に創設された帝国大学たる京都帝国大学の流れを汲んでいる国立大学で、入...</td>\n",
       "    </tr>\n",
       "    <tr>\n",
       "      <th>2</th>\n",
       "      <td>創立以来「自由の学風」を建学の精神としている。国立大学法人となった後に制定された京都大学の基...</td>\n",
       "    </tr>\n",
       "    <tr>\n",
       "      <th>3</th>\n",
       "      <td>京都市内の繁華街から離れた古都の風情を残す落ち着いた環境の中にあり、何事も学生の自主性に任せ...</td>\n",
       "    </tr>\n",
       "    <tr>\n",
       "      <th>4</th>\n",
       "      <td>京都大学や（前身の）京都帝国大学では、それらの自由の拡大あるいは縮小を巡る攻防戦が繰り返され...</td>\n",
       "    </tr>\n",
       "    <tr>\n",
       "      <th>5</th>\n",
       "      <td>京都大学は学部・研究科以外に19の附置研究所・研究センターを設置している[5]。2010年3...</td>\n",
       "    </tr>\n",
       "    <tr>\n",
       "      <th>6</th>\n",
       "      <td>タイムズ・ハイアー・エデュケーションの『THE世界大学ランキング 2021』（2020年）で...</td>\n",
       "    </tr>\n",
       "    <tr>\n",
       "      <th>7</th>\n",
       "      <td>2019年10月10日現在、卒業生から8人、ゆかりのある人物も含めると11人のノーベル賞受賞...</td>\n",
       "    </tr>\n",
       "    <tr>\n",
       "      <th>8</th>\n",
       "      <td>京都大学の起源は文久元年8月16日（1861年9月20日）に長崎に設立された長崎養生所（その...</td>\n",
       "    </tr>\n",
       "    <tr>\n",
       "      <th>9</th>\n",
       "      <td>帝国大学令制定後、近畿地方にも帝国大学の設置を求める声が上がっていたが、財政難のため見送られ...</td>\n",
       "    </tr>\n",
       "  </tbody>\n",
       "</table>\n",
       "</div>"
      ],
      "text/plain": [
       "                                              Field1\n",
       "0  京都大学（きょうとだいがく、英語: Kyoto University）は、京都府京都市左京区...\n",
       "1  京都大学は、日本で2番目に創設された帝国大学たる京都帝国大学の流れを汲んでいる国立大学で、入...\n",
       "2  創立以来「自由の学風」を建学の精神としている。国立大学法人となった後に制定された京都大学の基...\n",
       "3  京都市内の繁華街から離れた古都の風情を残す落ち着いた環境の中にあり、何事も学生の自主性に任せ...\n",
       "4  京都大学や（前身の）京都帝国大学では、それらの自由の拡大あるいは縮小を巡る攻防戦が繰り返され...\n",
       "5  京都大学は学部・研究科以外に19の附置研究所・研究センターを設置している[5]。2010年3...\n",
       "6  タイムズ・ハイアー・エデュケーションの『THE世界大学ランキング 2021』（2020年）で...\n",
       "7  2019年10月10日現在、卒業生から8人、ゆかりのある人物も含めると11人のノーベル賞受賞...\n",
       "8  京都大学の起源は文久元年8月16日（1861年9月20日）に長崎に設立された長崎養生所（その...\n",
       "9  帝国大学令制定後、近畿地方にも帝国大学の設置を求める声が上がっていたが、財政難のため見送られ..."
      ]
     },
     "execution_count": 32,
     "metadata": {},
     "output_type": "execute_result"
    }
   ],
   "source": [
    "wiki.head(10)"
   ]
  },
  {
   "cell_type": "code",
   "execution_count": 33,
   "metadata": {},
   "outputs": [
    {
     "data": {
      "text/html": [
       "<div>\n",
       "<style scoped>\n",
       "    .dataframe tbody tr th:only-of-type {\n",
       "        vertical-align: middle;\n",
       "    }\n",
       "\n",
       "    .dataframe tbody tr th {\n",
       "        vertical-align: top;\n",
       "    }\n",
       "\n",
       "    .dataframe thead th {\n",
       "        text-align: right;\n",
       "    }\n",
       "</style>\n",
       "<table border=\"1\" class=\"dataframe\">\n",
       "  <thead>\n",
       "    <tr style=\"text-align: right;\">\n",
       "      <th></th>\n",
       "      <th>Field1</th>\n",
       "    </tr>\n",
       "  </thead>\n",
       "  <tbody>\n",
       "    <tr>\n",
       "      <th>0</th>\n",
       "      <td>京都大学（きょうとだいかく、英称：Kyoto University）は、京都府京都市を本拠地...</td>\n",
       "    </tr>\n",
       "    <tr>\n",
       "      <th>1</th>\n",
       "      <td>「1人の天才と99,999人の狂人を生み出す大学」と呼ばれ、99,999人の中には態度がデカ...</td>\n",
       "    </tr>\n",
       "    <tr>\n",
       "      <th>2</th>\n",
       "      <td>今日、カステラ医学の権威として知られる長崎大学医学部を本家と仰ぐ、ハラタイラ・烏賊学部門が新...</td>\n",
       "    </tr>\n",
       "    <tr>\n",
       "      <th>3</th>\n",
       "      <td>建学当初から自由を基調とした考えが根底にある。部落開放同盟と利権を欲しいままにし、京都市役所...</td>\n",
       "    </tr>\n",
       "    <tr>\n",
       "      <th>4</th>\n",
       "      <td>また、官僚養成のトンキン大学や実学を推奨する神戸大学に対して、ニート養成や空想科学、エロゲ制...</td>\n",
       "    </tr>\n",
       "    <tr>\n",
       "      <th>5</th>\n",
       "      <td>永遠の校長こと折田彦市尊師を称えた銅像があったが、うら若き京大生達から溢れ出る芸術の息吹が尊...</td>\n",
       "    </tr>\n",
       "    <tr>\n",
       "      <th>6</th>\n",
       "      <td>出町柳のよそもん下宿生はテレビ大阪が写らない。\\n</td>\n",
       "    </tr>\n",
       "    <tr>\n",
       "      <th>7</th>\n",
       "      <td>牛車は大学側が用意するので、自前で購入する必要は無い。ただ、烏帽子や狩衣については入学前に購...</td>\n",
       "    </tr>\n",
       "    <tr>\n",
       "      <th>8</th>\n",
       "      <td>学内には、独立国家・吉田寮が存在する。クスノキ前で麻雀をやったり、炬燵で鍋をつついている連中...</td>\n",
       "    </tr>\n",
       "    <tr>\n",
       "      <th>9</th>\n",
       "      <td>お隣のソースの効いたたこ焼き大学の総長は京大卒の坂田利夫である。\\n</td>\n",
       "    </tr>\n",
       "  </tbody>\n",
       "</table>\n",
       "</div>"
      ],
      "text/plain": [
       "                                              Field1\n",
       "0  京都大学（きょうとだいかく、英称：Kyoto University）は、京都府京都市を本拠地...\n",
       "1  「1人の天才と99,999人の狂人を生み出す大学」と呼ばれ、99,999人の中には態度がデカ...\n",
       "2  今日、カステラ医学の権威として知られる長崎大学医学部を本家と仰ぐ、ハラタイラ・烏賊学部門が新...\n",
       "3  建学当初から自由を基調とした考えが根底にある。部落開放同盟と利権を欲しいままにし、京都市役所...\n",
       "4  また、官僚養成のトンキン大学や実学を推奨する神戸大学に対して、ニート養成や空想科学、エロゲ制...\n",
       "5  永遠の校長こと折田彦市尊師を称えた銅像があったが、うら若き京大生達から溢れ出る芸術の息吹が尊...\n",
       "6                          出町柳のよそもん下宿生はテレビ大阪が写らない。\\n\n",
       "7  牛車は大学側が用意するので、自前で購入する必要は無い。ただ、烏帽子や狩衣については入学前に購...\n",
       "8  学内には、独立国家・吉田寮が存在する。クスノキ前で麻雀をやったり、炬燵で鍋をつついている連中...\n",
       "9                 お隣のソースの効いたたこ焼き大学の総長は京大卒の坂田利夫である。\\n"
      ]
     },
     "execution_count": 33,
     "metadata": {},
     "output_type": "execute_result"
    }
   ],
   "source": [
    "uncy.head(10)"
   ]
  },
  {
   "cell_type": "code",
   "execution_count": 34,
   "metadata": {},
   "outputs": [],
   "source": [
    "# Remove new line character\n",
    "def parse(x):\n",
    "    x = re.sub(\"\\n\",\"\", x)\n",
    "    return x"
   ]
  },
  {
   "cell_type": "code",
   "execution_count": 35,
   "metadata": {},
   "outputs": [],
   "source": [
    "wiki['Field1'] = wiki['Field1'].map(lambda x: parse(x))\n",
    "uncy['Field1'] = wiki['Field1'].map(lambda x: parse(x))"
   ]
  },
  {
   "cell_type": "code",
   "execution_count": 36,
   "metadata": {},
   "outputs": [],
   "source": [
    "wiki['label'] = 1\n",
    "uncy['label'] = 0"
   ]
  },
  {
   "cell_type": "code",
   "execution_count": 37,
   "metadata": {},
   "outputs": [],
   "source": [
    "data = pd.concat([wiki, uncy])"
   ]
  },
  {
   "cell_type": "code",
   "execution_count": 38,
   "metadata": {},
   "outputs": [],
   "source": [
    "y, X = data['label'], data['Field1']\n",
    "X_train, X_test, y_train, y_test = train_test_split(X, y, test_size=0.25, random_state=42)"
   ]
  },
  {
   "cell_type": "code",
   "execution_count": 39,
   "metadata": {},
   "outputs": [],
   "source": [
    "train = pd.DataFrame({'label': y_train, 'text': X_train})\n",
    "test = pd.DataFrame({'label': y_test, 'text': X_test})"
   ]
  },
  {
   "cell_type": "code",
   "execution_count": 40,
   "metadata": {},
   "outputs": [],
   "source": [
    "test.to_csv('../data/test_orig.txt', sep='\\t', index=False, header=False)\n",
    "train.to_csv('../data/train_orig.txt', sep='\\t', index=False, header=False)"
   ]
  },
  {
   "cell_type": "code",
   "execution_count": null,
   "metadata": {},
   "outputs": [],
   "source": []
  }
 ],
 "metadata": {
  "jupytext": {
   "text_representation": {
    "extension": ".py",
    "format_name": "light",
    "format_version": "1.5",
    "jupytext_version": "1.7.1"
   }
  },
  "kernelspec": {
   "display_name": "Python 3",
   "language": "python",
   "name": "python3"
  },
  "language_info": {
   "codemirror_mode": {
    "name": "ipython",
    "version": 3
   },
   "file_extension": ".py",
   "mimetype": "text/x-python",
   "name": "python",
   "nbconvert_exporter": "python",
   "pygments_lexer": "ipython3",
   "version": "3.9.0"
  }
 },
 "nbformat": 4,
 "nbformat_minor": 4
}
